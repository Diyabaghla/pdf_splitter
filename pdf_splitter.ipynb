{
  "nbformat": 4,
  "nbformat_minor": 0,
  "metadata": {
    "colab": {
      "provenance": [],
      "authorship_tag": "ABX9TyNj4w3hbvaUzPU6s7p2HxuN",
      "include_colab_link": true
    },
    "kernelspec": {
      "name": "python3",
      "display_name": "Python 3"
    },
    "language_info": {
      "name": "python"
    }
  },
  "cells": [
    {
      "cell_type": "markdown",
      "metadata": {
        "id": "view-in-github",
        "colab_type": "text"
      },
      "source": [
        "<a href=\"https://colab.research.google.com/github/Diyabaghla/pdf_splitter/blob/main/pdf_splitter.ipynb\" target=\"_parent\"><img src=\"https://colab.research.google.com/assets/colab-badge.svg\" alt=\"Open In Colab\"/></a>"
      ]
    },
    {
      "cell_type": "code",
      "execution_count": 6,
      "metadata": {
        "colab": {
          "base_uri": "https://localhost:8080/"
        },
        "id": "C2sYuPWAxidS",
        "outputId": "4efc7342-8c05-4007-f1a4-b2df5560500b"
      },
      "outputs": [
        {
          "output_type": "stream",
          "name": "stdout",
          "text": [
            "Requirement already satisfied: pyPDF2 in /usr/local/lib/python3.10/dist-packages (3.0.1)\n"
          ]
        }
      ],
      "source": [
        "!pip install pyPDF2"
      ]
    },
    {
      "cell_type": "code",
      "source": [
        "import os\n",
        "from PyPDF2 import PdfReader ,PdfWriter"
      ],
      "metadata": {
        "id": "hcDhKjP1xofa"
      },
      "execution_count": 9,
      "outputs": []
    },
    {
      "cell_type": "code",
      "source": [
        "def split_pdf(input_dir,output_dir,split_page):\n",
        "  if not os.path.exists(output_dir):\n",
        "    os.makedirs(output_dir)\n",
        "  pdf=PdfReader(open(input_dir,\"rb\"))\n",
        "  total_pages=len(pdf.pages)\n",
        "\n",
        "\n",
        "  if split_page<1 or split_page>=total_pages:\n",
        "     raise ValueError(\"enter the valid page number to split: \")\n",
        "  part1_writer=PdfWriter()\n",
        "  part2_writer=PdfWriter()\n",
        "  for page_num in range(total_pages):\n",
        "     if page_num<split_page:\n",
        "      part1_writer.add_page(pdf.pages[page_num])\n",
        "     else:\n",
        "      part2_writer.add_page(pdf.pages[page_num])\n",
        "      #save the two parts\n",
        "      part1_filename=os.path.join(output_dir,'part1.pdf')\n",
        "      part2_filename=os.path.join(output_dir,'part2.pdf')\n",
        "\n",
        "  with open(part1_filename,\"wb\") as part1_pdf:\n",
        "    part1_writer.write(part1_pdf)\n",
        "  with open(part2_filename,\"wb\") as part2_pdf:\n",
        "    part2_writer.write(part2_pdf)\n",
        "    print('fcreated: {part1_filename}')\n",
        "    print('fcreated: {part2_filename}')\n",
        "\n",
        "if __name__==\"__main__\":\n",
        "  input_dir=\"/content/Research.pdf\"\n",
        "  output_dir=\"/content/output\"\n",
        "  split_page=int(input(\"enter the number of page from where you want to split: \"))\n",
        "  split_pdf(input_dir,output_dir,split_page)\n"
      ],
      "metadata": {
        "colab": {
          "base_uri": "https://localhost:8080/"
        },
        "id": "k07ufVEbyO8J",
        "outputId": "ab4771f3-8bb2-4815-a140-a5d99f563b94"
      },
      "execution_count": 21,
      "outputs": [
        {
          "output_type": "stream",
          "name": "stdout",
          "text": [
            "enter the number of page from where you want to split: 4\n",
            "fcreated: {part1_filename}\n",
            "fcreated: {part2_filename}\n"
          ]
        }
      ]
    },
    {
      "cell_type": "code",
      "source": [],
      "metadata": {
        "id": "hBmo2UENxwQh"
      },
      "execution_count": null,
      "outputs": []
    }
  ]
}